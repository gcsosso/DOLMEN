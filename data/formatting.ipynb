{
 "cells": [
  {
   "cell_type": "code",
   "execution_count": 191,
   "metadata": {},
   "outputs": [],
   "source": [
    "import pandas as pd\n",
    "import rdkit\n",
    "from rdkit import Chem\n",
    "import pickle"
   ]
  },
  {
   "cell_type": "code",
   "execution_count": 182,
   "metadata": {},
   "outputs": [],
   "source": [
    "def find_duplicates(data, smi_col='SMILES', name_col='Name'):\n",
    "\n",
    "    mols = [Chem.MolFromSmiles(smi) for smi in data[smi_col]]\n",
    "    smiles_rdkit = [Chem.MolToSmiles(mol) for mol in mols]\n",
    "\n",
    "    for i, smi1 in enumerate(smiles_rdkit):\n",
    "        for j, smi2 in enumerate(smiles_rdkit):\n",
    "            if i == j:\n",
    "                continue\n",
    "            if smi1 == smi2:\n",
    "                print(f'{data.loc[i][name_col]} ({i}) and {data.loc[j][name_col]} ({j}) are duplicates')"
   ]
  },
  {
   "attachments": {},
   "cell_type": "markdown",
   "metadata": {},
   "source": [
    "## Datasets\n",
    "\n",
    "### Amino"
   ]
  },
  {
   "cell_type": "code",
   "execution_count": 117,
   "metadata": {},
   "outputs": [],
   "source": [
    "amino_data = pd.read_csv('/Users/matt/Git/MattPhD/Datasets/Amino/Amino_All.csv')\n",
    "amino_data.drop(['ID','Charged SMILES'], axis=1, inplace=True)\n",
    "amino_data.columns = ['Name','Concentration (mM)', 'SMILES', 'Exp. % MGS', 'Exp. error', 'Set']\n",
    "amino_data['Exp. % MGS'] = [round(float(m.strip('%')),1) for m in amino_data['Exp. % MGS'].values]\n",
    "amino_data['Exp. error'] = [round(float(m.strip('%')),1) for m in amino_data['Exp. error'].values]\n",
    "amino_data['Name'] = [str(n).lower() for n in amino_data['Name']]\n",
    "amino_data['Set'] = [s.lower() for s in amino_data['Set']]\n",
    "amino_data['Set'] = [s.replace('prediction','predict') for s in amino_data['Set']]\n",
    "amino_data = amino_data[['Name','SMILES','Concentration (mM)','Exp. % MGS', 'Exp. error', 'Set']]\n",
    "amino_data.to_csv('datasets/amino.csv', index=False)"
   ]
  },
  {
   "cell_type": "code",
   "execution_count": 125,
   "metadata": {},
   "outputs": [],
   "source": [
    "find_duplicates(amino_data)"
   ]
  },
  {
   "attachments": {},
   "cell_type": "markdown",
   "metadata": {},
   "source": [
    "### Glyco"
   ]
  },
  {
   "cell_type": "code",
   "execution_count": 129,
   "metadata": {},
   "outputs": [],
   "source": [
    "glyco_data = pd.read_csv('/Users/matt/Git/MattPhD/Datasets/BenV0/Glyco.csv')\n",
    "glyco_data.drop(['ID','Formula','Class','Sugar'], inplace=True, axis=1)\n",
    "glyco_data['Name'] = [str(n).lower() for n in glyco_data['Name']]\n",
    "glyco_data['Set'] = [s.lower() for s in glyco_data['Set']]\n",
    "glyco_data['Set'] = [s.replace('prediction', 'predict') for s in glyco_data['Set']]\n",
    "glyco_data.to_csv('datasets/glyco.csv', index=False)"
   ]
  },
  {
   "cell_type": "code",
   "execution_count": 130,
   "metadata": {},
   "outputs": [],
   "source": [
    "find_duplicates(glyco_data)"
   ]
  },
  {
   "cell_type": "code",
   "execution_count": 168,
   "metadata": {},
   "outputs": [],
   "source": [
    "glyco2_data = pd.read_csv('/Users/matt/Git/MattPhD/Datasets/BenV2/Glyco2.csv')\n",
    "glyco2_data.set_index('ID', inplace=True)\n",
    "glyco2_duplicates = ['i169','i170','i171','i172','i173','i196','i197','i198','i199','i200','i233','i234']\n",
    "glyco2_data.drop(glyco2_duplicates, inplace=True)\n",
    "glyco2_data.reset_index(inplace=True)\n",
    "glyco2_data.drop(['ID','Formula','Class','Sugar','MGS SEM','Literature reference','Literature ID','Simulated'], inplace=True, axis=1)\n",
    "glyco2_data['Name'] = [str(n).lower() for n in glyco2_data['Name']]\n",
    "glyco2_data.columns = ['Name','SMILES','Exp. % MGS', 'Concentration (mM)']\n",
    "glyco2_data = glyco2_data[['Name','SMILES','Concentration (mM)','Exp. % MGS']]\n",
    "glyco2_data.to_csv('datasets/glyco2.csv', index=False)"
   ]
  },
  {
   "cell_type": "code",
   "execution_count": 180,
   "metadata": {},
   "outputs": [],
   "source": [
    "find_duplicates(glyco2_data)"
   ]
  },
  {
   "cell_type": "code",
   "execution_count": 181,
   "metadata": {},
   "outputs": [],
   "source": [
    "glyco_data.iloc[:124, :].to_csv(\"datasets/glyco.csv\", index=False)"
   ]
  },
  {
   "attachments": {},
   "cell_type": "markdown",
   "metadata": {},
   "source": [
    "## Descriptors\n",
    "### Amino"
   ]
  },
  {
   "cell_type": "code",
   "execution_count": 383,
   "metadata": {},
   "outputs": [],
   "source": [
    "amino_mgs = pickle.load(open(\"/Users/matt/Git/MattPhD/Datasets/Amino/AminoMGS.pkl\",\"rb\"))\n",
    "amino_data = pd.read_csv(\"/Users/matt/Git/MattPhD/Datasets/Amino/Amino.csv\")\n",
    "amino_data.set_index('ID', inplace=True)"
   ]
  },
  {
   "cell_type": "code",
   "execution_count": 384,
   "metadata": {},
   "outputs": [],
   "source": [
    "amino_pred = pd.read_csv('/Users/matt/Git/MattPhD/Datasets/Amino/amino_pred.csv', header=1)\n",
    "amino_pred_ids = {row['Molport ID']: row['Name'] for _, row in amino_pred.iterrows()}"
   ]
  },
  {
   "cell_type": "code",
   "execution_count": 385,
   "metadata": {},
   "outputs": [],
   "source": [
    "for id in amino_pred['Alternative ID']:\n",
    "    name = amino_pred.loc[amino_pred['Alternative ID'] == id, 'Name'].values\n",
    "    if len(name) > 0:\n",
    "        name = name[0]\n",
    "        amino_pred_ids[id] = name"
   ]
  },
  {
   "cell_type": "code",
   "execution_count": 394,
   "metadata": {},
   "outputs": [],
   "source": [
    "# Symmetry functions\n",
    "amino_sf = pickle.load(open('/Users/matt/Git/MattPhD/Descriptors/wACSF/Data/AminoSymMD.pkl','rb'))\n",
    "amino_sf.drop([index for index in amino_sf.index if index not in amino_mgs.index], inplace=True)\n",
    "amino_sf['Name'] = [amino_data.loc[i]['Name'] for i in amino_sf.index]\n",
    "amino_sf.set_index('Name', inplace=True)\n",
    "\n",
    "amino_sf_pred = pickle.load(open(\"/Users/matt/Git/MattPhD/Descriptors/wACSF/Data/AminoFilteredSym.pkl\", \"rb\"))\n",
    "amino_sf_pred = amino_sf_pred[amino_sf_pred.index.isin(amino_pred_ids)]\n",
    "amino_sf_pred['Name'] = [amino_pred_ids[id] for id in amino_sf_pred.index]\n",
    "amino_sf_pred.set_index('Name', inplace=True)\n",
    "\n",
    "amino_sf = pd.concat([amino_sf, amino_sf_pred], axis=0)\n",
    "amino_sf.to_csv('descriptors/wacsf_amino.csv', index=True)"
   ]
  },
  {
   "cell_type": "code",
   "execution_count": 411,
   "metadata": {},
   "outputs": [],
   "source": [
    "# SOAPs\n",
    "amino_soaps = pickle.load(open('/Users/matt/Git/MattPhD/Descriptors/SOAPs/Data/AminoSOAPs_GA_1_6_7_8.pkl','rb'))\n",
    "amino_soaps.drop([index for index in amino_soaps.index if index not in amino_mgs.index], inplace=True)\n",
    "amino_soaps['Name'] = [amino_data.loc[i]['Name'] for i in amino_soaps.index]\n",
    "amino_soaps.set_index('Name', inplace=True)\n",
    "\n",
    "amino_soaps_pred = pickle.load(open(\"/Users/matt/Git/MattPhD/Descriptors/SOAPs/Data/AminoFilteredSOAPs_GA_Scaled_1_6_7_8.pkl\",\"rb\"))\n",
    "amino_soaps_pred = amino_soaps_pred[amino_soaps_pred.index.isin(amino_pred_ids)]\n",
    "amino_soaps_pred['Name'] = [amino_pred_ids[id] for id in amino_soaps_pred.index]\n",
    "amino_soaps_pred.set_index('Name',inplace=True)\n",
    "\n",
    "amino_soaps = pd.concat([amino_soaps, amino_soaps_pred], axis=0)\n",
    "amino_soaps.to_csv('descriptors/soaps_amino.csv', index=True)"
   ]
  },
  {
   "cell_type": "code",
   "execution_count": 412,
   "metadata": {},
   "outputs": [],
   "source": [
    "# Hydration indices\n",
    "amino_hi = pickle.load(open('/Users/matt/Git/MattPhD/Descriptors/HydrationIndex/Data/AminoHydIdx_All.pkl', 'rb'))\n",
    "amino_hi['Name'] = [amino_data.loc[i]['Name'] for i in amino_hi.index]\n",
    "amino_hi.set_index('Name', inplace=True)\n",
    "amino_hi.to_csv('descriptors/hydidx_amino.csv')\n"
   ]
  },
  {
   "cell_type": "code",
   "execution_count": 415,
   "metadata": {},
   "outputs": [],
   "source": [
    "# Hydration histograms\n",
    "amino_hh = pickle.load(open('/Users/matt/Git/MattPhD/Descriptors/RadPDF/Data/AminoRadPDF.pkl', 'rb'))\n",
    "amino_hh.drop(['a061','a065','a066','a067'], errors='ignore', inplace=True)\n",
    "amino_hh['Name'] = [amino_data.loc[i]['Name'] for i in amino_hh.index]\n",
    "amino_hh.set_index('Name', inplace=True)\n",
    "amino_hh.to_csv('descriptors/hydhist_amino.csv')\n"
   ]
  },
  {
   "attachments": {},
   "cell_type": "markdown",
   "metadata": {},
   "source": [
    "### Glyco"
   ]
  },
  {
   "cell_type": "code",
   "execution_count": 429,
   "metadata": {},
   "outputs": [],
   "source": [
    "glyco2_data = pd.read_csv('/Users/matt/Git/MattPhD/Datasets/BenV2/Glyco2.csv')\n",
    "glyco2_data.set_index('ID', inplace=True)\n",
    "glyco2_duplicates = ['i169','i170','i171','i172','i173','i196','i197','i198','i199','i200','i233','i234']\n",
    "glyco2_data.drop(duplicates, inplace=True)"
   ]
  },
  {
   "cell_type": "code",
   "execution_count": 445,
   "metadata": {},
   "outputs": [],
   "source": [
    "# Symmetry functions\n",
    "glyco_sf = pickle.load(open('/Users/matt/Git/MattPhD/Descriptors/wACSF/Data/BenV0SymDFT.pkl','rb'))\n",
    "glyco_sf = glyco_sf.iloc[:123,:]\n",
    "glyco_sf.drop(glyco2_duplicates,inplace=True, errors='ignore')\n",
    "glyco_sf['Name'] = [glyco2_data.loc[i,'Name'] for i in glyco_sf.index]\n",
    "glyco_sf.set_index('Name',inplace=True)\n",
    "glyco_sf.to_csv('descriptors/wacsf_glyco.csv')\n",
    "\n",
    "glyco2_sf = pickle.load(open('/Users/matt/Git/MattPhD/Descriptors/wACSF/Data/BenV2SymMD.pkl','rb'))\n",
    "glyco2_sf.drop(glyco2_duplicates,inplace=True, errors='ignore')\n",
    "glyco2_sf['Name'] = [glyco2_data.loc[i,'Name'] for i in glyco2_sf.index]\n",
    "glyco2_sf.set_index('Name', inplace=True)\n",
    "glyco2_sf.to_csv('descriptors/wacsf_glyco2.csv')"
   ]
  },
  {
   "cell_type": "code",
   "execution_count": 451,
   "metadata": {},
   "outputs": [],
   "source": [
    "# SOAPs\n",
    "glyco_soaps = pickle.load(open('/Users/matt/Git/MattPhD/Descriptors/SOAPs/Data/BenV0SOAPs_GA.pkl','rb'))\n",
    "glyco_soaps['Name'] = [glyco2_data.loc[i,'Name'] for i in glyco_soaps.index]\n",
    "glyco_soaps.set_index('Name', inplace=True)\n",
    "glyco_soaps.to_csv('descriptors/soaps_glyco.csv')\n",
    "\n",
    "glyco2_soaps = pickle.load(open('/Users/matt/Git/MattPhD/Descriptors/SOAPs/Data/BenV2_GA_1_6_8.pkl','rb'))\n",
    "glyco2_soaps.drop(glyco2_duplicates, inplace=True, errors='ignore')\n",
    "glyco2_soaps['Name'] = [glyco2_data.loc[i,'Name'] for i in glyco2_soaps.index]\n",
    "glyco2_soaps.set_index('Name', inplace=True)\n",
    "glyco2_soaps.to_csv('descriptors/soaps_glyco2.csv')"
   ]
  },
  {
   "cell_type": "code",
   "execution_count": 470,
   "metadata": {},
   "outputs": [],
   "source": [
    "# Hydration indices\n",
    "glyco2_hi = pickle.load(open('/Users/matt/Git/MattPhD/Descriptors/HydrationIndex/Data/BenV2HydIdx_All.pkl', 'rb'))\n",
    "glyco2_hi.drop(glyco2_duplicates, inplace=True, errors='ignore')\n",
    "glyco2_hi['Name'] = [glyco2_data.loc[i,'Name'] for i in glyco2_hi.index]\n",
    "glyco2_hi.set_index('Name', inplace=True)\n",
    "glyco2_hi.to_csv('descriptors/hydidx_glyco2.csv', index=True)\n",
    "\n",
    "glyco_hi = glyco2_hi.iloc[:123, :]\n",
    "glyco_hi.to_csv('descriptors/hydidx_glyco.csv', index=True)"
   ]
  },
  {
   "cell_type": "code",
   "execution_count": 471,
   "metadata": {},
   "outputs": [],
   "source": [
    "# Hydration histograms\n",
    "glyco2_hh = pickle.load(open('/Users/matt/Git/MattPhD/Descriptors/RadPDF/Data/BenV2RadPDF.pkl', 'rb'))\n",
    "glyco2_hh.drop(glyco2_duplicates, inplace=True, errors='ignore')\n",
    "glyco2_hh['Name'] = [glyco2_data.loc[i,'Name'] for i in glyco2_hh.index]\n",
    "glyco2_hh.set_index('Name', inplace=True)\n",
    "glyco2_hh.to_csv('descriptors/hydhist_glyco2.csv', index=True)\n",
    "\n",
    "glyco_hh = glyco2_hh.iloc[:123, :]\n",
    "glyco_hh.to_csv('descriptors/hydhist_glyco.csv', index=True)"
   ]
  }
 ],
 "metadata": {
  "kernelspec": {
   "display_name": "CHEM",
   "language": "python",
   "name": "python3"
  },
  "language_info": {
   "codemirror_mode": {
    "name": "ipython",
    "version": 3
   },
   "file_extension": ".py",
   "mimetype": "text/x-python",
   "name": "python",
   "nbconvert_exporter": "python",
   "pygments_lexer": "ipython3",
   "version": "3.9.4"
  },
  "orig_nbformat": 4
 },
 "nbformat": 4,
 "nbformat_minor": 2
}
